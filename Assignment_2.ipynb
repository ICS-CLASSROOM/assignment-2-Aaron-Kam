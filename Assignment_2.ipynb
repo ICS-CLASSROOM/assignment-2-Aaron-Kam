{
 "cells": [
  {
   "cell_type": "code",
   "execution_count": 1,
   "id": "3290090a",
   "metadata": {},
   "outputs": [],
   "source": [
    "import re\n"
   ]
  },
  {
   "cell_type": "markdown",
   "id": "1f4bdf59",
   "metadata": {},
   "source": [
    "# Assignment 2: Analyzing large datasets with Spark.\n",
    "\n",
    "\n",
    "For this assignment, you will need to make sure you're running from a PySpark docker environment I introduced in class. You can start the docker pySpark docker environment using the following command:\n",
    "\n",
    "```\n",
    "docker run --rm -p 4040:4040 -p 8888:8888 -v $(pwd):/home/jovyan/work jupyter/all-spark-notebook\n",
    "```\n",
    "\n",
    "Make sure you run the command from the directory containing this jupyter notebook and your data folder.\n",
    "\n",
    "\n",
    "</b>\n",
    "# WARNING: For some reason, ipynbb document didn't always sync properly when I was pushing to github. As such, please push often and make sure your incremental changes appear on GitHub.\n",
    "</b>"
   ]
  },
  {
   "cell_type": "markdown",
   "id": "231d8217",
   "metadata": {},
   "source": [
    "### Part 1\n",
    "\n",
    "The first part will use Spark to analyze the following books, which I have downloaded for you to use from Project Gutenberg. The files are saved to the data folder.\n",
    "\n",
    "| File name | Book Title|\n",
    "|:---------:|:----------|\n",
    "|43.txt | The Strange Case of Dr. Jekyll and Mr. Hyde by Robert Louis Stevenson|\n",
    "|84.txt | Frankenstein; Or, The Modern Prometheus by Mary Wollstonecraft Shelley |\n",
    "|398.txt  | The First Book of Adam and Eve by Rutherford Hayes Platt|\n",
    "|3296.txt | The Confessions of St. Augustine by Bishop of Hippo Saint Augustine|\n",
    "\n",
    "The objective is to explore whether we can detect similarity between books within the same topic using word-based similarity. \n",
    "\n",
    "The task of identifying similar texts in Natural Language Processing is crucial. A naive method for determining whether two documents are similar is to treat them as collections of words (bag of words) and use the number of words they share as a proxy for their similarity. It makes sense that two books with religion as the topic (e.g.  `398.txt` and `3296.txt`) would have more words in common than a book that discusses religion and a book that discusses science fiction (e.g. books `84.txt` and `398.txt`). \n",
    "\n",
    "As mentioned above, we will be using Spark to analyze the data. Although Spark is not needed for such a small example, the platform would be ideal for analyzing very large collections of documents, like those often analyzed by large corporations\n",
    "\n",
    "This part of the assignment will rely exclusively on RDDs."
   ]
  },
  {
   "cell_type": "markdown",
   "id": "0a9049d5",
   "metadata": {},
   "source": [
    "### Q1. \n",
    "Start by importing Spark and making sure your environment is set up properly for the assignment.\n",
    "\n",
    "Import the spark context necessary to load a document as an RDD; ignore any error messages"
   ]
  },
  {
   "cell_type": "code",
   "execution_count": 2,
   "id": "2b123062",
   "metadata": {},
   "outputs": [
    {
     "name": "stderr",
     "output_type": "stream",
     "text": [
      "WARNING: An illegal reflective access operation has occurred\n",
      "WARNING: Illegal reflective access by org.apache.spark.unsafe.Platform (file:/usr/local/spark-3.2.0-bin-hadoop3.2/jars/spark-unsafe_2.12-3.2.0.jar) to constructor java.nio.DirectByteBuffer(long,int)\n",
      "WARNING: Please consider reporting this to the maintainers of org.apache.spark.unsafe.Platform\n",
      "WARNING: Use --illegal-access=warn to enable warnings of further illegal reflective access operations\n",
      "WARNING: All illegal access operations will be denied in a future release\n",
      "Using Spark's default log4j profile: org/apache/spark/log4j-defaults.properties\n",
      "Setting default log level to \"WARN\".\n",
      "To adjust logging level use sc.setLogLevel(newLevel). For SparkR, use setLogLevel(newLevel).\n",
      "21/11/08 02:12:03 WARN NativeCodeLoader: Unable to load native-hadoop library for your platform... using builtin-java classes where applicable\n"
     ]
    },
    {
     "name": "stdout",
     "output_type": "stream",
     "text": [
      "Spark version is 3.2.0\n",
      "Phthon version is 3.9\n",
      "The name of the master is local[*]\n"
     ]
    }
   ],
   "source": [
    "### Write your code here\n",
    "from pyspark import SparkContext\n",
    "sc = SparkContext()\n",
    "print(f\"Spark version is {sc.version}\")\n",
    "\n",
    "print(f\"Phthon version is {sc.pythonVer}\")\n",
    "\n",
    "print(f\"The name of the master is {sc.master}\")"
   ]
  },
  {
   "cell_type": "code",
   "execution_count": 3,
   "id": "4ed0ff69",
   "metadata": {},
   "outputs": [
    {
     "data": {
      "text/plain": [
       "[('spark.driver.host', 'aa605a3ccd8c'),\n",
       " ('spark.executor.id', 'driver'),\n",
       " ('spark.driver.port', '44805'),\n",
       " ('spark.app.name', 'pyspark-shell'),\n",
       " ('spark.driver.extraJavaOptions',\n",
       "  '-Dio.netty.tryReflectionSetAccessible=true'),\n",
       " ('spark.app.startTime', '1636337523636'),\n",
       " ('spark.rdd.compress', 'True'),\n",
       " ('spark.serializer.objectStreamReset', '100'),\n",
       " ('spark.app.id', 'local-1636337524589'),\n",
       " ('spark.master', 'local[*]'),\n",
       " ('spark.submit.pyFiles', ''),\n",
       " ('spark.submit.deployMode', 'client'),\n",
       " ('spark.executor.extraJavaOptions',\n",
       "  '-Dio.netty.tryReflectionSetAccessible=true'),\n",
       " ('spark.ui.showConsoleProgress', 'true')]"
      ]
     },
     "execution_count": 3,
     "metadata": {},
     "output_type": "execute_result"
    }
   ],
   "source": [
    "sc.getConf().getAll()"
   ]
  },
  {
   "cell_type": "markdown",
   "id": "04ce417c",
   "metadata": {},
   "source": [
    "### Q2 \n",
    "\n",
    "Read in the file `43.txt` as a spark RDD and save it to a variable called `book_43`\n",
    " * make sure `book_43` is of type MapPartitionsRDD, i.e.,\n",
    "   * str(type(book_43)) == \"<class 'pyspark.rdd.RDD'>\" should return True "
   ]
  },
  {
   "cell_type": "code",
   "execution_count": 4,
   "id": "d7ffa50d",
   "metadata": {},
   "outputs": [
    {
     "data": {
      "text/plain": [
       "True"
      ]
     },
     "execution_count": 4,
     "metadata": {},
     "output_type": "execute_result"
    }
   ],
   "source": [
    "### Write your code here\n",
    "\n",
    "book_43 = sc.textFile('data/43.txt', minPartitions=4)\n",
    "str(type(book_43)) == \"<class 'pyspark.rdd.RDD'>\""
   ]
  },
  {
   "cell_type": "markdown",
   "id": "fa0b389b",
   "metadata": {},
   "source": [
    "### Q3\n",
    "\n",
    "How many lines does `book_43` contain?\n",
    "* You can only use operations or actions on RDDs to answer the question. \n",
    "  * Code that uses methods such as `some_rdd.X().Y().Z()...` is allowed\n",
    "  * Code that uses functions such as `some_func(...)` is not allowed"
   ]
  },
  {
   "cell_type": "code",
   "execution_count": 5,
   "id": "02ddc40e",
   "metadata": {},
   "outputs": [
    {
     "name": "stderr",
     "output_type": "stream",
     "text": [
      "                                                                                \r"
     ]
    },
    {
     "data": {
      "text/plain": [
       "2935"
      ]
     },
     "execution_count": 5,
     "metadata": {},
     "output_type": "execute_result"
    }
   ],
   "source": [
    "### Write your code here\n",
    "book_43.count()"
   ]
  },
  {
   "cell_type": "markdown",
   "id": "1824d34b",
   "metadata": {},
   "source": [
    "### Q4 \n",
    "\n",
    "Prior to analyzing the words contained in this book, we need to first remove the occurrences of non-alphabetical characters and numbers from the text. You can use the following function, which takes a line as input, removes digits and non-word characters, and splits it into a collection of words. \n",
    "\n",
    "```python\n",
    "def clean_split_line(line):\n",
    "    a = re.sub('\\d+', '', line)\n",
    "    b = re.sub('[\\W]+', ' ', a)\n",
    "    return b.upper().split()\n",
    "```\n",
    "\n",
    "Use the fucntion above on the variable (test_line) to see what it returns.\n",
    "```python\n",
    "test_line = \"This is an example of that contains 234 and a dash-containing number\"\n",
    "```"
   ]
  },
  {
   "cell_type": "code",
   "execution_count": 6,
   "id": "625be8eb",
   "metadata": {},
   "outputs": [
    {
     "data": {
      "text/plain": [
       "['THIS',\n",
       " 'IS',\n",
       " 'AN',\n",
       " 'EXAMPLE',\n",
       " 'OF',\n",
       " 'THAT',\n",
       " 'CONTAINS',\n",
       " 'AND',\n",
       " 'A',\n",
       " 'DASH',\n",
       " 'CONTAINING',\n",
       " 'NUMBER']"
      ]
     },
     "execution_count": 6,
     "metadata": {},
     "output_type": "execute_result"
    }
   ],
   "source": [
    "### Write your code here\n",
    "def clean_split_line(line):\n",
    "    a = re.sub('\\d+', '', line)\n",
    "    b = re.sub('[\\W]+', ' ', a)\n",
    "    return b.upper().split()\n",
    "\n",
    "test_line = \"This is an example of that contains 234 and a dash-containing number\"\n",
    "\n",
    "clean_split_line(test_line)"
   ]
  },
  {
   "cell_type": "markdown",
   "id": "9d57b30c",
   "metadata": {},
   "source": [
    "### Q5\n",
    "\n",
    "How many words does `book_43` contain? To answer this question, you may find it useful to apply the function in a spark-fashion. \n",
    "* You can only use operations or actions on RDDs to answer the question. \n",
    "  * Code that uses methods such as `some_rdd.X().Y().Z()...` is allowed\n",
    "  * Code that uses functions such as `some_func(...)` is not allowed\n"
   ]
  },
  {
   "cell_type": "code",
   "execution_count": 7,
   "id": "1a741934",
   "metadata": {},
   "outputs": [
    {
     "data": {
      "text/plain": [
       "29116"
      ]
     },
     "execution_count": 7,
     "metadata": {},
     "output_type": "execute_result"
    }
   ],
   "source": [
    "### Write your code here\n",
    "book_43.flatMap(clean_split_line).count()"
   ]
  },
  {
   "cell_type": "markdown",
   "id": "23f12a56",
   "metadata": {},
   "source": [
    "### Q6\n",
    "\n",
    "How many of the words in book_43 are unique? Given that words can appear in lower, upper or mixed case (ex. The, THE, the), make sure you convert the words into lower case before counting them.\n"
   ]
  },
  {
   "cell_type": "code",
   "execution_count": 8,
   "id": "df6fd748",
   "metadata": {},
   "outputs": [
    {
     "data": {
      "text/plain": [
       "4296"
      ]
     },
     "execution_count": 8,
     "metadata": {},
     "output_type": "execute_result"
    }
   ],
   "source": [
    "### Write your code here\n",
    "book_43.flatMap(clean_split_line).map(str.lower).distinct(3).count()"
   ]
  },
  {
   "cell_type": "markdown",
   "id": "715fd113",
   "metadata": {},
   "source": [
    "### Q7\n",
    "\n",
    "* Generate an `RDD` that contains the frequency of each word in `book_43`. Call the variable `book_43_counts`. Each item in the `RDD` should be a tuple with the word as the first element of the tuple and the count as the second item of the tuple. The collection should look like the following:\n",
    "\n",
    "[('project', 88), (\"the\", 1807), ... ]\n",
    "\n",
    "* Such a collection may contain a large number of words and it would be imprudent to transfer all the words onto the same machine to display it. Instead, to explore the content of such a collection, display only the first element in your list. \n",
    "\n",
    "* Given the random nature of this operation, the first element element displayed may be different. The first entry for me was:\n",
    "```\n",
    "[('project', 88)]\n",
    "```\n",
    "\n",
    "* You can only use operations or actions to answer the question. \n",
    "* Code that uses methods such as `some_rdd.X().Y().Z()...` is allowed\n",
    "* Code that uses functions such as `some_func(...)` is not allowed\n"
   ]
  },
  {
   "cell_type": "code",
   "execution_count": 9,
   "id": "b0381fac",
   "metadata": {},
   "outputs": [
    {
     "data": {
      "text/plain": [
       "('gutenberg', 98)"
      ]
     },
     "execution_count": 9,
     "metadata": {},
     "output_type": "execute_result"
    }
   ],
   "source": [
    "### Write your code here\n",
    "book_43_counts= book_43.flatMap(clean_split_line).map(str.lower).map(lambda x : (x,1)).reduceByKey(lambda x,y: x+y)\n",
    "book_43_counts.first()"
   ]
  },
  {
   "cell_type": "markdown",
   "id": "b42e4ed9",
   "metadata": {},
   "source": [
    "### Q8\n",
    "\n",
    "Sort `book_43_counts` and print the 20 most frequent words in book_43. \n",
    "  * Hint: function `sortByKey` sorts a collection of tuples on the first element element of the list. You can easily change the order of the items in each element and use `sortByKey` to sort on the second item of each element in `book_43_counts`\n",
    "  * You can only use operations or actions to answer the question. \n",
    "  * Code that uses methods such as `some_rdd.X().Y().Z()...` is allowed\n",
    "  * Code that uses functions such as `some_func(...)` is not allowed"
   ]
  },
  {
   "cell_type": "code",
   "execution_count": 10,
   "id": "787b2dab",
   "metadata": {},
   "outputs": [
    {
     "data": {
      "text/plain": [
       "[(1807, 'the'),\n",
       " (1068, 'of'),\n",
       " (1043, 'and'),\n",
       " (726, 'to'),\n",
       " (686, 'a'),\n",
       " (646, 'i'),\n",
       " (485, 'in'),\n",
       " (471, 'was'),\n",
       " (392, 'that'),\n",
       " (384, 'he'),\n",
       " (378, 'it'),\n",
       " (312, 'you'),\n",
       " (308, 'my'),\n",
       " (301, 'with'),\n",
       " (285, 'his'),\n",
       " (244, 'had'),\n",
       " (203, 'as'),\n",
       " (202, 'for'),\n",
       " (195, 'this'),\n",
       " (193, 'but')]"
      ]
     },
     "execution_count": 10,
     "metadata": {},
     "output_type": "execute_result"
    }
   ],
   "source": [
    "### Write your code here\n",
    "book_43_counts.map(lambda x : (x[1],x[0])).sortByKey(False).take(20)"
   ]
  },
  {
   "cell_type": "markdown",
   "id": "3ecce856",
   "metadata": {},
   "source": [
    "### Q9\n",
    "\n",
    "You must have noted that the most frequent words in `book_43_counts` include stop words such as `of`, `the`, `and`, etc.\n",
    "\n",
    "It would be inefficient to compare documents based on whether or not they contain stop words; those are common to all documents. As such, it's common to remove such stop words. The librarary `sklearn.feature_extraction` provides access to a collection of English stop words, which can be loaded using the following snippet:\n",
    "\n",
    "```\n",
    "from sklearn.feature_extraction import stop_words\n",
    "stop_words.ENGLISH_STOP_WORDS\n",
    "```\n",
    "\n",
    "* Explore ENGLISH_STOP_WORDS (it's a frozen set data structure, i.e., a set that you cannot modify) by printing any 10 words from it. \n",
    " * Hint: convert the frozen set to something you can subscript\n"
   ]
  },
  {
   "cell_type": "code",
   "execution_count": 11,
   "id": "ec43c4cd",
   "metadata": {},
   "outputs": [
    {
     "data": {
      "text/plain": [
       "['beyond',\n",
       " 'side',\n",
       " 'although',\n",
       " 'much',\n",
       " 'seeming',\n",
       " 'amoungst',\n",
       " 'should',\n",
       " 'from',\n",
       " 'every',\n",
       " 'too']"
      ]
     },
     "execution_count": 11,
     "metadata": {},
     "output_type": "execute_result"
    }
   ],
   "source": [
    "### Write your code here\n",
    "#!conda install sklearn\n",
    "from sklearn.feature_extraction import _stop_words as stop_words\n",
    "#from sklearn import feature_extraction\n",
    "\n",
    "list(stop_words.ENGLISH_STOP_WORDS)[:10]"
   ]
  },
  {
   "cell_type": "markdown",
   "id": "9cb7c758",
   "metadata": {},
   "source": [
    "### Q10\n",
    "\n",
    "Filter out the words in `book_43_counts` by removing those that appear in the ENGLISH_STOP_WORDS.\n",
    "Save the results to a new variable called `book_43_counts_filtered`\n",
    "  * You can only use operarations or actions on RDDs to answer the question. \n",
    "  * Code that uses methods such as `some_rdd.X().Y().Z()...` is allowed\n",
    "  * Code that uses function such as `some_func(...)` is not allowed\n"
   ]
  },
  {
   "cell_type": "code",
   "execution_count": 12,
   "id": "e3d58980",
   "metadata": {},
   "outputs": [],
   "source": [
    "### Write your code here\n",
    "book_43_counts_filtered = book_43_counts.filter(lambda x: x[0] not in stop_words.ENGLISH_STOP_WORDS )\n"
   ]
  },
  {
   "cell_type": "markdown",
   "id": "8f39c32d",
   "metadata": {},
   "source": [
    "### Q11\n",
    "\n",
    "* How many words are left in `book_43_counts_filtered` after removing the stop words"
   ]
  },
  {
   "cell_type": "code",
   "execution_count": 13,
   "id": "3c7d88fe",
   "metadata": {},
   "outputs": [
    {
     "data": {
      "text/plain": [
       "4034"
      ]
     },
     "execution_count": 13,
     "metadata": {},
     "output_type": "execute_result"
    }
   ],
   "source": [
    "### Write your code here\n",
    "book_43_counts_filtered.count()"
   ]
  },
  {
   "cell_type": "markdown",
   "id": "bee0c45b",
   "metadata": {},
   "source": [
    "### Q12 \n",
    "\n",
    "* Create a function called *process_RDD* that combines the relevant steps you proposed above to make it convenient to apply them to the remaining four books. Your function should accept an input text file path and:\n",
    " * Reads in the file as a textRDD\n",
    " * Cleans and splits the line using `clean_split_line`\n",
    " * Filters out the stop words\n",
    " * Returns a word count RDD where each item is a tuple of words and its count.\n",
    " \n"
   ]
  },
  {
   "cell_type": "code",
   "execution_count": 14,
   "id": "37573548",
   "metadata": {},
   "outputs": [],
   "source": [
    "### Write your code here\n",
    "def process_RDD(file_path):\n",
    "    # How's this for functional programming\n",
    "    return sc.textFile(file_path, minPartitions=4).flatMap(clean_split_line).map(str.lower).map(lambda x : (x,1)).reduceByKey(lambda x,y: x+y).filter(lambda x: x[0] not in stop_words.ENGLISH_STOP_WORDS)\n"
   ]
  },
  {
   "cell_type": "markdown",
   "id": "71c95648",
   "metadata": {},
   "source": [
    "### Q13 \n",
    "\n",
    "Apply the function `process_RDD` to `book_84`, `book_398` and `book_3296` and save the results to variables `book_84_counts_filtered`, `book_398_counts_filtered` and `book_3296_counts_filtered` respectively. How many distinct words does each book contain after filtering the stop words.\n"
   ]
  },
  {
   "cell_type": "code",
   "execution_count": 15,
   "id": "da66bc60",
   "metadata": {},
   "outputs": [
    {
     "data": {
      "text/plain": [
       "(7016, 2421, 7293)"
      ]
     },
     "execution_count": 15,
     "metadata": {},
     "output_type": "execute_result"
    }
   ],
   "source": [
    "### Write your code here\n",
    "book_84_counts_filtered = process_RDD('data/84.txt')\n",
    "book_398_counts_filtered = process_RDD('data/398.txt')\n",
    "book_3296_counts_filtered = process_RDD('data/3296.txt')\n",
    "\n",
    "book_84_counts_filtered.count(), book_398_counts_filtered.count(), book_3296_counts_filtered.count()"
   ]
  },
  {
   "cell_type": "markdown",
   "id": "a013c7cb",
   "metadata": {},
   "source": [
    "### Q14 \n",
    "\n",
    "We discussed how to evaluate similarity between two texts using the number of words they share. We hypothesized that books that are similar should have more words in common than books that are dissimilar. If that holds, `book_398` and `book_3296`, which both pertain to religion, will have more words in common than, say, `book_84` and `book_398`. Test this hypothesis by writing code that compares and prints the number of words shared between `book_398` and `book_3296` and then between `book_84` and `book_398`.\n"
   ]
  },
  {
   "cell_type": "code",
   "execution_count": 28,
   "id": "4c8dc767",
   "metadata": {},
   "outputs": [
    {
     "name": "stderr",
     "output_type": "stream",
     "text": [
      "\r",
      "[Stage 35:==============>                                           (2 + 6) / 8]\r",
      "\r",
      "                                                                                \r"
     ]
    },
    {
     "name": "stdout",
     "output_type": "stream",
     "text": [
      "84 ∩ 398:\t 1691\n",
      "3296 ∩ 398:\t 1790\n",
      "84 ∩ 3296:\t 3608\n"
     ]
    }
   ],
   "source": [
    "### Write your code here\n",
    "print('84 ∩ 398:\\t', book_84_counts_filtered.map(lambda x: x[0]).intersection(book_398_counts_filtered.map(lambda x: x[0])).count())\n",
    "print('3296 ∩ 398:\\t', book_3296_counts_filtered.map(lambda x: x[0]).intersection(book_398_counts_filtered.map(lambda x: x[0])).count())\n",
    "print('84 ∩ 3296:\\t', book_84_counts_filtered.map(lambda x: x[0]).intersection(book_3296_counts_filtered.map(lambda x: x[0])).count())"
   ]
  },
  {
   "cell_type": "markdown",
   "id": "93e27e1a",
   "metadata": {},
   "source": [
    "### Q15\n",
    "\n",
    "* Based on the above, do you think counting the number of shared words is a good idea as a distance metric for evaluating topic similarity? Justify your answer?\n",
    "* Hint: What do *book_84* and *book_3296* have in common? "
   ]
  },
  {
   "cell_type": "markdown",
   "id": "20c3cb65",
   "metadata": {},
   "source": [
    "#### Write your answer here\n",
    "\n",
    "No, shared words is not a good distance metric for evaluating topic similarity. It appears to scale more closely with total word count instead of by genre or subject. In this case, 84 and 3296 have ~7k words while 398 has ~2.4k with the first two having more words in common than with the former. This is likely because it is easier to have words in common with something if you have a lot words to begin with."
   ]
  },
  {
   "cell_type": "markdown",
   "id": "062f6e06",
   "metadata": {},
   "source": [
    "## Part II \n",
    "\n",
    "Another approach to estimating similarity consists of computing the Euclidean distance across a set of words. For example, suppose we have 3 documents A, B and C with the following counts for the words `evolution`, `DNA`, `biology` and `finance`. \n",
    "\n",
    "```python \n",
    "A = [4, 9, 6, 8]\n",
    "B = [3, 7, 7, 10]\n",
    "C = [15, 10, 1, 1]\n",
    "```\n",
    "Although all documents contain exactly the four words, the number of times these words appear in each book may be indicative of thier topic. For example, documents `A` and `B` are more likely to be business related since they contain the word `finance` more frequently (8 and 10 times respectively). Document `C` may be a technical document since it focuses on more technical words (`evolution` and `DNA`) and less on the words `finance`.\n",
    "\n",
    "The Euclidean distance, which can be computed using the `scikit` snippet below, is more indicative of topic-relatedness between the two documents.\n",
    "\n",
    "```python\n",
    "from scipy.spatial.distance import euclidean \n",
    "print(f\"The Euclidean distance between A and B is: {euclidean(A, B)}\")\n",
    "\n",
    "print(f\"The Euclidean distance between A and C is: {euclidean(A, C)}\")\n",
    "\n",
    "print(f\"The Euclidean distance between B and C is: {euclidean(B, C)}\")\n",
    "```\n"
   ]
  },
  {
   "cell_type": "markdown",
   "id": "d9bfe186",
   "metadata": {},
   "source": [
    "### Q16\n",
    "\n",
    "To calculate the Euclidean distance, we must first identify the set of words by which we will compare the documents. Here, we will explore the words that are common to all 4 documents. We will store the data in a matrix called `counts_matrix`.\n",
    "\n",
    "Start by finding the words that are common to all four documents after stop-word filtering and store the counts for each word in a column of `counts_matrix`. \n",
    "\n",
    "To take the previous example, you can generate an emtpy matrix with 3 lines (documents `A`, `B` and `C`) and 4 columns (words `evolution`, `DNA`, `biology` and `finance`) using the following code.\n",
    "\n",
    "```python\n",
    "import numpy as np\n",
    "counts_matrix = np.zeros([3,4])\n",
    "```\n",
    "\n",
    "After generting the counts, you can fill the counts for a document, say `A`, using the following code:\n",
    "\n",
    "```python\n",
    "counts_matrix[0, :] = [4, 9, 6, 8] \n",
    "```\n",
    "* Other than for building `counts_matrix` you should exclusively use operations or actions on the `RDD` to answer this question. \n",
    "  * Code that uses methods such as `some_rdd.X().Y().Z()...` is allowed\n",
    "  * Code that uses functions such as `some_func(...)` is not allowed\n"
   ]
  },
  {
   "cell_type": "code",
   "execution_count": 57,
   "id": "12a4c2e0",
   "metadata": {},
   "outputs": [
    {
     "name": "stdout",
     "output_type": "stream",
     "text": [
      "number of shared words: 1488\n",
      "Word counts:\n",
      " [[ 3. 12.  1. ... 30.  9.  1.]\n",
      " [ 1.  2.  1. ...  1.  2.  1.]\n",
      " [ 3.  1. 16. ... 15.  4.  1.]]\n"
     ]
    }
   ],
   "source": [
    "### Write your code here\n",
    "from scipy.spatial.distance import euclidean \n",
    "import numpy as np\n",
    "\n",
    "shared_words = book_84_counts_filtered.map(lambda x: x[0]).intersection(book_398_counts_filtered.map(lambda x: x[0]).intersection(book_3296_counts_filtered.map(lambda x: x[0]))).collect()\n",
    "book_84_counts_filtered.filter(lambda x: x[0] in shared_words).sortByKey().map(lambda x: x[1]).collect()\n",
    "\n",
    "print(f'number of shared words: {len(shared_words)}')\n",
    "\n",
    "counts_matrix = np.zeros([3,len(shared_words)])\n",
    "counts_matrix[0, :] = book_84_counts_filtered.filter(lambda x: x[0] in shared_words).sortByKey().map(lambda x: x[1]).collect()\n",
    "counts_matrix[1, :] = book_398_counts_filtered.filter(lambda x: x[0] in shared_words).sortByKey().map(lambda x: x[1]).collect()\n",
    "counts_matrix[2, :] = book_3296_counts_filtered.filter(lambda x: x[0] in shared_words).sortByKey().map(lambda x: x[1]).collect()\n",
    "print('Word counts:\\n', counts_matrix)"
   ]
  },
  {
   "cell_type": "markdown",
   "id": "d073ed96",
   "metadata": {},
   "source": [
    "### Q17\n",
    "\n",
    "Compute the Euclidean distance between `book_398` and `book_3296`, which both talk about religion and `book_84` and `book_398`. What do you conclude about using the Euclidean distance for evaluating topic relatedness across documents?\n"
   ]
  },
  {
   "cell_type": "code",
   "execution_count": 56,
   "id": "733f36c2",
   "metadata": {},
   "outputs": [
    {
     "name": "stdout",
     "output_type": "stream",
     "text": [
      "The Euclidean distance between 84 and 398 is: 1109.7215867054222\n",
      "The Euclidean distance between 84 and 3296 is: 1884.0976620122428\n",
      "The Euclidean distance between 398 and 3296 is: 2039.064981799256\n"
     ]
    }
   ],
   "source": [
    "### Write your code here\n",
    "print(f\"The Euclidean distance between 84 and 398 is: {euclidean(counts_matrix[0], counts_matrix[1])}\")\n",
    "print(f\"The Euclidean distance between 84 and 3296 is: {euclidean(counts_matrix[0], counts_matrix[2])}\")\n",
    "print(f\"The Euclidean distance between 398 and 3296 is: {euclidean(counts_matrix[2], counts_matrix[1])}\")"
   ]
  },
  {
   "cell_type": "markdown",
   "id": "1fe1d0f3",
   "metadata": {},
   "source": [
    "#### Write your justification here\n",
    "Euclidean distance is not good for this type of evaluation. The two books that share a topic are once again implied to be the least similar simply because we are comparing their usage of specific words. There is no consideration for context or meaning, and are not normalized at all. In fact the two books with the same topic could be considered very different if one is significantly larger, as the smaller book may simply be closer to the origin than to a point with a large magnitude. On the other hand, words that are not very topic specific could be used in very different amounts and have the same weight as the important words."
   ]
  },
  {
   "cell_type": "markdown",
   "id": "3e43c6ef",
   "metadata": {},
   "source": [
    "### Q18\n",
    "\n",
    "Bonus question (5 points): Can you think of a few things we could do to improve similarity between documents that pertain to the same topic. Justify your answer without giving code"
   ]
  },
  {
   "cell_type": "markdown",
   "id": "faeffae1",
   "metadata": {},
   "source": [
    "#### Write your answer here (I'm assuming we are stuck with the EDM for evaluating similarity)\n",
    "After filtering for stop words, I would take the most commonly used words that together make up 30-40% of each document and normalize them into percentages. Using those words and frequencies, I would then do an intersection and compare their EDMs, though this is also far from perfect"
   ]
  },
  {
   "cell_type": "markdown",
   "id": "b7e29d93",
   "metadata": {},
   "source": [
    "## Part III\n",
    "\n",
    "In this part we will build some basic analytics for a dataset consisting of flight arrival and departure details for all commercial flights within the USA in one month. While this dataset can be managed using Pandas (<1M records), scaling to a yearly or longer timeframe will greatly benefit from using a distributed computing framework such as `Spark`.\n",
    "\n",
    "Here, you should use exclusively `SparkDatFrames`. \n",
    "\n",
    "We want to analyze this dataset to better schedule trips.  For example:\n",
    " * Avoid airlines carriers that are most often associated with delays.\n",
    " * Avoid departure days where delays are most frequent.\n",
    " * Avoid airports which are associated with delays or long taxxying time.\n",
    "* etc.\n",
    " \n",
    "\n",
    "The information about the fields contained in the data file can be found [here](https://dataverse.harvard.edu/dataset.xhtml;jsessionid=0414e25969eccd0e88ae4d64fa0b?persistentId=doi%3A10.7910%2FDVN%2FHG7NV7&version=&q=&fileTypeGroupFacet=&fileTag=%221.+Documentation%22&fileSortField=date&fileSortOrder=desc)\n"
   ]
  },
  {
   "cell_type": "markdown",
   "id": "844c9fbb",
   "metadata": {},
   "source": [
    "### Q19\n",
    "\n",
    "Load the file `flight_info.csv` into a spark `DataFrame` called `fight_info`.\n",
    "\n",
    "  * Note that you will need to create a sparkSession prior to loading the data\n",
    "  \n",
    "* How many entries does the file contain?\n",
    "\n"
   ]
  },
  {
   "cell_type": "code",
   "execution_count": 222,
   "id": "7fed1747",
   "metadata": {},
   "outputs": [
    {
     "data": {
      "text/plain": [
       "450017"
      ]
     },
     "execution_count": 222,
     "metadata": {},
     "output_type": "execute_result"
    }
   ],
   "source": [
    "### Write your code here\n",
    "from pyspark.sql import SparkSession\n",
    "session = SparkSession(sc)\n",
    "fight_info = session.read.csv('data/flight_info.csv', header=True)\n",
    "fight_info.count()"
   ]
  },
  {
   "cell_type": "markdown",
   "id": "a68ce640",
   "metadata": {},
   "source": [
    "### Q20\n",
    "\n",
    "Use `pySpark-SQL` or `pandas-like syntax to compute the airlines represented in this dataset\n",
    "The airline information is stored in a field called UniqueCarrier\n",
    "* UniqueCarrier: Represents the unique carrier code (ex.AA = American Airlines) \n"
   ]
  },
  {
   "cell_type": "code",
   "execution_count": 221,
   "id": "0f3c744c",
   "metadata": {},
   "outputs": [
    {
     "data": {
      "text/plain": [
       "12"
      ]
     },
     "execution_count": 221,
     "metadata": {},
     "output_type": "execute_result"
    }
   ],
   "source": [
    "### Write your code here\n",
    "from pyspark.sql import functions as F\n",
    "\n",
    "fight_info.groupby(\"UniqueCarrier\").count().count()"
   ]
  },
  {
   "cell_type": "markdown",
   "id": "d97fba37",
   "metadata": {},
   "source": [
    "### Q21\n",
    "\n",
    "The data file contains various other fields, two of which are useful for answering the next question.\n",
    "\n",
    "* CRSDepTime: Represents the scheduled departure time\n",
    "* DepTime: Represents the actual departure time\n",
    "\n",
    "Compute the number of flights delayed per each carried code represented in this dataset. Sort the data by decreasing order of delays.\n",
    "  * A delay is observed when `DepTime` > `CRSDepTime`\n"
   ]
  },
  {
   "cell_type": "code",
   "execution_count": 223,
   "id": "3088c882",
   "metadata": {},
   "outputs": [
    {
     "name": "stdout",
     "output_type": "stream",
     "text": [
      "+-------------+-----+\n",
      "|UniqueCarrier|count|\n",
      "+-------------+-----+\n",
      "|           AA|26291|\n",
      "|           EV|12340|\n",
      "|           B6|10406|\n",
      "|           DL|28962|\n",
      "|           UA|19594|\n",
      "|           NK| 4435|\n",
      "|           OO|17924|\n",
      "|           F9| 3181|\n",
      "|           HA| 2265|\n",
      "|           WN|54557|\n",
      "|           AS| 4966|\n",
      "|           VX| 2871|\n",
      "+-------------+-----+\n",
      "\n"
     ]
    }
   ],
   "source": [
    "### Write your code here\n",
    "late_flights = fight_info.filter(fight_info.DepTime > fight_info.CRSDepTime)\n",
    "late_flights.groupby('UniqueCarrier').count().show()"
   ]
  },
  {
   "cell_type": "markdown",
   "id": "13984790",
   "metadata": {},
   "source": [
    "### Q22\n",
    "\n",
    " Use the file `airlines.csv` to find the the complete name of the airline. Here, you are required to load the file as a pyspark DataFrame; call it `airlines_info`, and repeat the query above while including the `flights.csv `file in your query ( requires doing a `join`) so that you can also display the full name of the carrier (second column). \n",
    "\n",
    "The result will look (approximately) like:\n",
    "\n",
    "```\n",
    "[Row(UniqueCarrier='WN', first(_c1)='Southwest Airlines', count=SOME_count),\n",
    " Row(UniqueCarrier='DL', first(_c1)='Delta Air Lines', count=SOME_count),\n",
    " Row(UniqueCarrier='AA', first(_c1)='American Airlines', count=SOME_count),\n",
    " ...\n",
    " ]\n",
    "```\n",
    "\n",
    "The carrier code in the `airlines.csv` file is provided in the 4th (1-based) column\n",
    "\n",
    "Note that the file `airlines.csv` does not have column header. Hence, you need to print one line of your dataset to see what names Spark gave to the columns. Use the name provided by Spark in your query."
   ]
  },
  {
   "cell_type": "code",
   "execution_count": 186,
   "id": "af9f0c51",
   "metadata": {},
   "outputs": [
    {
     "name": "stdout",
     "output_type": "stream",
     "text": [
      "+-------------+--------------------+-----+\n",
      "|UniqueCarrier|                 _c1|count|\n",
      "+-------------+--------------------+-----+\n",
      "|           AA|   American Airlines|26291|\n",
      "|           EV|Atlantic Southeas...|12340|\n",
      "|           B6|     JetBlue Airways|10406|\n",
      "|           DL|     Delta Air Lines|28962|\n",
      "|           UA|     United Airlines|19594|\n",
      "|           NK|     Spirit Airlines| 4435|\n",
      "|           OO|             SkyWest|17924|\n",
      "|           F9|   Frontier Airlines| 3181|\n",
      "|           HA|   Hawaiian Airlines| 2265|\n",
      "|           WN|  Southwest Airlines|54557|\n",
      "|           AS|     Alaska Airlines| 4966|\n",
      "|           VX|      Virgin America| 2871|\n",
      "+-------------+--------------------+-----+\n",
      "\n"
     ]
    }
   ],
   "source": [
    "### Write your code here\n",
    "# Don't you love functional programming\n",
    "late_flights.groupby('UniqueCarrier').count().withColumn('UniqueCarrier',F.col('UniqueCarrier')).join(airlines_info[['_c3','_c1']].withColumn('UniqueCarrier',F.col('_c3')),on='UniqueCarrier',how='inner')[['UniqueCarrier','_c1','count']].show()\n"
   ]
  },
  {
   "cell_type": "markdown",
   "id": "be9d3f00",
   "metadata": {},
   "source": [
    "### Q23\n",
    "\n",
    "Compute the number of delays per company per day. The day is encoded as an integer in the column `DayOfWeek` in `fight_info`. You can display the day as an integer or map it into a string name of the week.\n",
    "Sort the data by airline code (UniqueCarrier) and by increasing values of DayOfWeek\n",
    "\n",
    "\n",
    "You results should look like the following\n",
    "\n"
   ]
  },
  {
   "cell_type": "code",
   "execution_count": 187,
   "id": "abe8c44d",
   "metadata": {},
   "outputs": [
    {
     "name": "stdout",
     "output_type": "stream",
     "text": [
      "+-------------+---------+-----+\n",
      "|UniqueCarrier|DayOfWeek|count|\n",
      "+-------------+---------+-----+\n",
      "|           AA|   monday| 5117|\n",
      "|           AA|  tuesday| 3688|\n",
      "|           AA|wednesday| 2941|\n",
      "|           AA| thursday| 3575|\n",
      "|           AA|   friday| 3525|\n",
      "|           AA| saturday| 2800|\n",
      "|           AA|   sunday| 4645|\n",
      "|           AS|   monday|  872|\n",
      "|           AS|  tuesday|  669|\n",
      "|           AS|wednesday|  618|\n",
      "|           AS| thursday|  728|\n",
      "|           AS|   friday|  630|\n",
      "|           AS| saturday|  517|\n",
      "|           AS|   sunday|  932|\n",
      "|           B6|   monday| 1892|\n",
      "|           B6|  tuesday| 1787|\n",
      "|           B6|wednesday| 1253|\n",
      "|           B6| thursday| 1254|\n",
      "|           B6|   friday| 1309|\n",
      "|           B6| saturday| 1027|\n",
      "+-------------+---------+-----+\n",
      "only showing top 20 rows\n",
      "\n"
     ]
    }
   ],
   "source": [
    "### Write your code here\n",
    "day_dict={'1':'monday','2':'tuesday','3':'wednesday','4':'thursday','5':'friday','6':'saturday','7':'sunday'}\n",
    "late_flights.groupby(['UniqueCarrier','DayOfWeek']).count().sort(['UniqueCarrier','DayOfWeek']).replace(day_dict, subset=['DayOfWeek']).show()"
   ]
  },
  {
   "cell_type": "markdown",
   "id": "def0c81e",
   "metadata": {},
   "source": [
    "### Q24  \n",
    "\n",
    "Counting the number of delayed flights per airline is misleading, as airlines with more flights are more likley to have delays than companies with substantially fiewer flights. \n",
    "\n",
    "Repeat the same query above but, for each carrier, normalize the counts of delays by the total number of flights for that carrier. \n"
   ]
  },
  {
   "cell_type": "code",
   "execution_count": 202,
   "id": "40c4c196",
   "metadata": {},
   "outputs": [
    {
     "name": "stdout",
     "output_type": "stream",
     "text": [
      "+-------------+---------+-----+-----+-------------------+\n",
      "|UniqueCarrier|DayOfWeek|count|total|         norm_count|\n",
      "+-------------+---------+-----+-----+-------------------+\n",
      "|           AA|        5| 3525|26291|0.13407629987448177|\n",
      "|           AA|        7| 4645|26291|0.17667642919630291|\n",
      "|           AA|        6| 2800|26291|0.10650032330455289|\n",
      "|           AA|        2| 3688|26291| 0.1402761401239968|\n",
      "|           AA|        4| 3575|26291|0.13597809136206307|\n",
      "|           AA|        3| 2941|26291|0.11186337529953216|\n",
      "|           AA|        1| 5117|26291| 0.1946293408390704|\n",
      "|           EV|        4| 1667|12340|0.13508914100486225|\n",
      "|           EV|        2| 2032|12340| 0.1646677471636953|\n",
      "|           EV|        3| 1364|12340|0.11053484602917342|\n",
      "|           EV|        5| 1748|12340|0.14165316045380874|\n",
      "|           EV|        7| 1997|12340|0.16183144246353323|\n",
      "|           EV|        1| 2605|12340|0.21110210696920584|\n",
      "|           EV|        6|  927|12340|0.07512155591572123|\n",
      "|           B6|        1| 1892|10406|0.18181818181818182|\n",
      "|           B6|        5| 1309|10406|0.12579281183932348|\n",
      "|           B6|        2| 1787|10406|0.17172784931770133|\n",
      "|           B6|        4| 1254|10406|0.12050739957716702|\n",
      "|           B6|        3| 1253|10406|0.12041130117240054|\n",
      "|           B6|        7| 1884|10406|0.18104939458004998|\n",
      "+-------------+---------+-----+-----+-------------------+\n",
      "only showing top 20 rows\n",
      "\n"
     ]
    }
   ],
   "source": [
    "### Write your code here\n",
    "late_flights.groupby(['UniqueCarrier','DayOfWeek']).count().join(late_flights.groupby(['UniqueCarrier']).count().withColumnRenamed('count','total'), 'UniqueCarrier').withColumn('norm_count',F.col('count')/F.col('total')).show()\n",
    "\n",
    "\n",
    "#.sort(['UniqueCarrier','DayOfWeek']).replace(day_dict, subset=['DayOfWeek']).replace(day_dict, subset=['DayOfWeek']).show()"
   ]
  },
  {
   "cell_type": "markdown",
   "id": "fad104f4",
   "metadata": {},
   "source": [
    "### Q25 \n",
    "\n",
    "Time the query above. How long did it take to run. \n",
    "  * Make sure you run the code a few times and compute the average run time.\n",
    "  * The above should be easy to implement if you use the correct Jupyter Notebook `magic` function\n",
    "  "
   ]
  },
  {
   "cell_type": "code",
   "execution_count": 206,
   "id": "b6f2af1d",
   "metadata": {},
   "outputs": [
    {
     "name": "stdout",
     "output_type": "stream",
     "text": [
      "CPU times: user 64.4 ms, sys: 1.73 ms, total: 66.2 ms\n",
      "Wall time: 272 ms\n"
     ]
    }
   ],
   "source": [
    "%%time\n",
    "for n in range(10):\n",
    "    late_flights.groupby(['UniqueCarrier','DayOfWeek']).count().join(late_flights.groupby(['UniqueCarrier']).count().withColumnRenamed('count','total'), 'UniqueCarrier').withColumn('norm_count',F.col('count')/F.col('total'))\n",
    "# The average time was 66.2ms/10 = 6.62ms to complete"
   ]
  },
  {
   "cell_type": "markdown",
   "id": "134f59ee",
   "metadata": {},
   "source": [
    "### Q26 \n",
    "\n",
    "Use one of the techniques covered in class to accelerate this query. Time your query to see by how much the run time was improved"
   ]
  },
  {
   "cell_type": "code",
   "execution_count": 244,
   "id": "783075d0",
   "metadata": {},
   "outputs": [
    {
     "name": "stdout",
     "output_type": "stream",
     "text": [
      "CPU times: user 24.4 ms, sys: 1.62 ms, total: 26 ms\n",
      "Wall time: 239 ms\n"
     ]
    }
   ],
   "source": [
    "%%time\n",
    "cached = late_flights.groupby(['UniqueCarrier','DayOfWeek']).count().join(late_flights.groupby(['UniqueCarrier']).count().withColumnRenamed('count','total'), 'UniqueCarrier')\n",
    "for n in range(10):\n",
    "    cached.withColumn('norm_count',F.col('count')/F.col('total'))"
   ]
  },
  {
   "cell_type": "markdown",
   "id": "79402380",
   "metadata": {},
   "source": [
    "### Q27 \n",
    "\n",
    "Is the departure delay (i.e., DepTime - CRSDepTime) predictive of the arrival delay (ArrTime > CRSArrTime)?\n",
    "Use an approach of your choice (e.g. `skelearn` which we covered in class or `Spark`) to model as a linear regression the arrival delay as a function of the departure delay. \n",
    "\n"
   ]
  },
  {
   "cell_type": "code",
   "execution_count": 235,
   "id": "f12cb1b6",
   "metadata": {},
   "outputs": [
    {
     "data": {
      "text/plain": [
       "-0.005186954867603566"
      ]
     },
     "execution_count": 235,
     "metadata": {},
     "output_type": "execute_result"
    }
   ],
   "source": [
    "### Write your code here\n",
    "from sklearn.linear_model import LinearRegression\n",
    "clean_late_flights = late_flights.dropna(how='any',subset=['DepTime','CRSDepTime','ArrTime', 'CRSArrTime'])\n",
    "\n",
    "lm = LinearRegression()\n",
    "lm.fit(X=clean_late_flights.withColumn('DepLate', F.col('DepTime')-F.col('CRSDepTime')).select('DepLate').collect(),\n",
    "                    y=clean_late_flights.withColumn('ArrLate', F.col('ArrTime')>F.col('CRSArrTime')).select('ArrLate').collect())\n",
    "lm.score(X=clean_late_flights.withColumn('DepLate', F.col('DepTime')>F.col('CRSDepTime')).select('DepLate').collect(),\n",
    "                    y=clean_late_flights.withColumn('ArrLate', F.col('ArrTime')-F.col('CRSArrTime')).select('ArrLate').collect())\n",
    "\n",
    "#departure time is not predictive, with an R^2 of .004 which is essentially random\n",
    "\n"
   ]
  },
  {
   "cell_type": "code",
   "execution_count": null,
   "id": "72c1214d",
   "metadata": {},
   "outputs": [],
   "source": []
  }
 ],
 "metadata": {
  "interpreter": {
   "hash": "82b5efee887e002da33821188ce89fd9ea39794247391eab730cd4cb3f48fced"
  },
  "kernelspec": {
   "display_name": "Python 3 (ipykernel)",
   "language": "python",
   "name": "python3"
  },
  "language_info": {
   "codemirror_mode": {
    "name": "ipython",
    "version": 3
   },
   "file_extension": ".py",
   "mimetype": "text/x-python",
   "name": "python",
   "nbconvert_exporter": "python",
   "pygments_lexer": "ipython3",
   "version": "3.9.7"
  }
 },
 "nbformat": 4,
 "nbformat_minor": 5
}
